{
 "cells": [
  {
   "cell_type": "code",
   "execution_count": 73,
   "id": "48c8c7f0-073b-4828-9fc8-a8950f7b452a",
   "metadata": {},
   "outputs": [],
   "source": [
    "### Using the KNN algorithm, we train a model to predict whether a tumor is malignant or bening.\n",
    "import numpy as np\n",
    "import pandas as pd\n",
    "from sklearn.datasets import load_breast_cancer\n",
    "\n",
    "cancer = load_breast_cancer()\n",
    "\n",
    "#print(cancer.DESCR) # Print the data set description"
   ]
  },
  {
   "cell_type": "code",
   "execution_count": 74,
   "id": "f0c4dbcd-c244-4daf-978a-418aaf4d9a6e",
   "metadata": {},
   "outputs": [
    {
     "data": {
      "text/plain": [
       "dict_keys(['data', 'target', 'frame', 'target_names', 'DESCR', 'feature_names', 'filename'])"
      ]
     },
     "execution_count": 74,
     "metadata": {},
     "output_type": "execute_result"
    }
   ],
   "source": [
    "cancer.keys()"
   ]
  },
  {
   "cell_type": "code",
   "execution_count": 75,
   "id": "0eb372de-27a8-4eed-954c-8201c3a943fa",
   "metadata": {},
   "outputs": [],
   "source": [
    "### Converting the scikit-learn bunch dataset to Pandas DataFrame\n",
    "data = pd.DataFrame(cancer.data, columns=[cancer.feature_names])\n",
    "data['Target'] = pd.Series(data=cancer.target, index=data.index)"
   ]
  },
  {
   "cell_type": "code",
   "execution_count": 76,
   "id": "c4f06231-849f-436f-9eb3-6eef325efbd7",
   "metadata": {},
   "outputs": [],
   "source": [
    "X = data[cancer.feature_names]\n",
    "y = pd.Series(data=cancer.target, index=data.index)"
   ]
  },
  {
   "cell_type": "code",
   "execution_count": 77,
   "id": "e2c3d9fa-c8e5-44ae-a9d0-91c56872cd3a",
   "metadata": {},
   "outputs": [],
   "source": [
    "from sklearn.model_selection import train_test_split\n",
    "\n",
    "X_train, X_test, y_train, y_test = train_test_split(X, y, random_state=0)"
   ]
  },
  {
   "cell_type": "code",
   "execution_count": 78,
   "id": "32722087-33d4-48b8-af50-e54ac2015dcb",
   "metadata": {},
   "outputs": [
    {
     "data": {
      "text/plain": [
       "KNeighborsClassifier(n_neighbors=1)"
      ]
     },
     "execution_count": 78,
     "metadata": {},
     "output_type": "execute_result"
    }
   ],
   "source": [
    "from sklearn.neighbors import KNeighborsClassifier\n",
    "\n",
    "knn = KNeighborsClassifier(n_neighbors = 1)\n",
    "knn.fit(X_train, y_train)"
   ]
  },
  {
   "cell_type": "code",
   "execution_count": 79,
   "id": "2a845c39-0de2-4a1d-ac54-c682dfbc58eb",
   "metadata": {},
   "outputs": [],
   "source": [
    "### Using the mean values of each column we try to make a prediction here.\n",
    "data_mean = data.mean()[:-1].values.reshape(1,-1) #This function gets the mean value for each feature, ignores the target column, and reshapes the data from 1 dimension to 2 (necessary for the precict method of KNeighborsClassifier).\n",
    "predict = knn.predict(data_mean)"
   ]
  },
  {
   "cell_type": "code",
   "execution_count": 71,
   "id": "c53d423e-0294-4a74-ac9e-7d23a0f69078",
   "metadata": {},
   "outputs": [],
   "source": [
    "### Now using the X_test we try to make a prediction\n",
    "\n",
    "predict = knn.predict(X_test)"
   ]
  },
  {
   "cell_type": "code",
   "execution_count": 72,
   "id": "0414b7f2-c813-4f5f-a0e4-6d021704a359",
   "metadata": {},
   "outputs": [
    {
     "data": {
      "text/plain": [
       "0.916083916083916"
      ]
     },
     "execution_count": 72,
     "metadata": {},
     "output_type": "execute_result"
    }
   ],
   "source": [
    "# Now we measure the accuracy of the model.\n",
    "knn.score(X_test,y_test)"
   ]
  },
  {
   "cell_type": "code",
   "execution_count": null,
   "id": "2b2753b1-6b82-4d2b-a79f-3572421ade7b",
   "metadata": {},
   "outputs": [],
   "source": []
  }
 ],
 "metadata": {
  "kernelspec": {
   "display_name": "Python 3",
   "language": "python",
   "name": "python3"
  },
  "language_info": {
   "codemirror_mode": {
    "name": "ipython",
    "version": 3
   },
   "file_extension": ".py",
   "mimetype": "text/x-python",
   "name": "python",
   "nbconvert_exporter": "python",
   "pygments_lexer": "ipython3",
   "version": "3.6.13"
  }
 },
 "nbformat": 4,
 "nbformat_minor": 5
}
